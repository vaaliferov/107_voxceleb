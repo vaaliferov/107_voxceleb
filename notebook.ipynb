{
 "cells": [
  {
   "cell_type": "code",
   "execution_count": null,
   "id": "4300310e-08e8-47d2-b113-1430622dbf0f",
   "metadata": {},
   "outputs": [],
   "source": [
    "# https://www.robots.ox.ac.uk/~vgg/data/voxceleb/vox1.html\n",
    "wget https://www.robots.ox.ac.uk/~vgg/data/voxceleb/meta/vox1_meta.csv\n",
    "wget https://www.robots.ox.ac.uk/~vgg/data/voxceleb/data/vox1_dev_txt.zip\n",
    "wget https://www.robots.ox.ac.uk/~vgg/data/voxceleb/data/vox1_test_txt.zip\n",
    "wget https://thor.robots.ox.ac.uk/~vgg/data/voxceleb/vox1a/vox1_test_wav.zip\n",
    "\n",
    "wget https://thor.robots.ox.ac.uk/~vgg/data/voxceleb/vox1a/vox1_dev_wav_partaa\n",
    "wget https://thor.robots.ox.ac.uk/~vgg/data/voxceleb/vox1a/vox1_dev_wav_partab\n",
    "wget https://thor.robots.ox.ac.uk/~vgg/data/voxceleb/vox1a/vox1_dev_wav_partac\n",
    "wget https://thor.robots.ox.ac.uk/~vgg/data/voxceleb/vox1a/vox1_dev_wav_partad\n",
    "\n",
    "cat vox1_dev_wav_partab >> vox1_dev_wav_partaa && rm vox1_dev_wav_partab\n",
    "cat vox1_dev_wav_partac >> vox1_dev_wav_partaa && rm vox1_dev_wav_partac\n",
    "cat vox1_dev_wav_partad >> vox1_dev_wav_partaa && rm vox1_dev_wav_partad\n",
    "mv vox1_dev_wav_partaa vox1_dev_wav.zip\n",
    "\n",
    "sudo apt install fuse-zip\n",
    "mkdir dev_wav test_wav dev_txt test_txt\n",
    "fuse-zip -r vox1_dev_wav.zip dev_wav\n",
    "fuse-zip -r vox1_dev_txt.zip dev_txt\n",
    "fuse-zip -r vox1_test_wav.zip test_wav\n",
    "fuse-zip -r vox1_test_txt.zip test_txt"
   ]
  },
  {
   "cell_type": "code",
   "execution_count": null,
   "id": "3ae573e1-de08-4fd3-ba1f-c69353f7383c",
   "metadata": {},
   "outputs": [],
   "source": [
    "!pip3 install torch librosa soundfile speechbrain numpy pandas tqdm"
   ]
  },
  {
   "cell_type": "code",
   "execution_count": 1,
   "id": "3f9e27f8-f3d8-42ac-83c2-31609a763428",
   "metadata": {},
   "outputs": [],
   "source": [
    "import torch\n",
    "import librosa\n",
    "import soundfile\n",
    "import speechbrain\n",
    "import numpy as np\n",
    "import pandas as pd\n",
    "from glob import glob\n",
    "from tqdm import tqdm"
   ]
  },
  {
   "cell_type": "code",
   "execution_count": 14,
   "id": "f8f63c59-82b9-48ca-b1a8-baab70e4fce1",
   "metadata": {},
   "outputs": [],
   "source": [
    "df_meta = pd.read_csv('vox1_meta.csv', sep='\\t')\n",
    "df_meta.columns = ['id','name','gender','nationality','set']"
   ]
  },
  {
   "cell_type": "code",
   "execution_count": 15,
   "id": "11deb28a-e762-4ce3-9cbf-bf2d621ea232",
   "metadata": {},
   "outputs": [],
   "source": [
    "files = glob('dev_wav/wav/*/*/00001.wav')\n",
    "ids, videos, wavs = list(zip(*[f[12:].split('/') for f in files]))\n",
    "df_dev_wav = pd.DataFrame({'id': ids, 'video': videos, 'wav': wavs})"
   ]
  },
  {
   "cell_type": "code",
   "execution_count": 16,
   "id": "e8211c2c-11e9-4ac2-b91b-16b0ba8fad32",
   "metadata": {},
   "outputs": [],
   "source": [
    "files = glob('dev_txt/txt/*/*/00001.txt')\n",
    "ids, videos, txts = list(zip(*[f[12:].split('/') for f in files]))\n",
    "df_dev_txt = pd.DataFrame({'id': ids, 'video': videos, 'txt': txts})"
   ]
  },
  {
   "cell_type": "code",
   "execution_count": 17,
   "id": "497610c9-c4f5-41dc-8981-51fee7ca48fe",
   "metadata": {},
   "outputs": [],
   "source": [
    "files = glob('test_wav/wav/*/*/00001.wav')\n",
    "ids, videos, wavs = list(zip(*[f[13:].split('/') for f in files]))\n",
    "df_test_wav = pd.DataFrame({'id': ids, 'video': videos, 'wav': wavs})"
   ]
  },
  {
   "cell_type": "code",
   "execution_count": 18,
   "id": "892782d0-c73d-4c83-86e8-572f49076473",
   "metadata": {},
   "outputs": [],
   "source": [
    "files = glob('test_txt/txt/*/*/00001.txt')\n",
    "ids, videos, txts = list(zip(*[f[13:].split('/') for f in files]))\n",
    "df_test_txt = pd.DataFrame({'id': ids, 'video': videos, 'txt': txts})"
   ]
  },
  {
   "cell_type": "code",
   "execution_count": 19,
   "id": "b172fb66-6e83-445f-a4a5-9a9753f7aaef",
   "metadata": {},
   "outputs": [],
   "source": [
    "df_wav = df_dev_wav.append(df_test_wav)\n",
    "df_txt = df_dev_txt.append(df_test_txt)"
   ]
  },
  {
   "cell_type": "code",
   "execution_count": 20,
   "id": "8aaab0ab-e55d-4344-a692-b599a881d670",
   "metadata": {},
   "outputs": [],
   "source": [
    "df_wav_txt = pd.merge(df_wav, df_txt, on=['id','video'], how='inner')"
   ]
  },
  {
   "cell_type": "code",
   "execution_count": 21,
   "id": "750f64f2-7868-4b97-940b-be0be441b4df",
   "metadata": {},
   "outputs": [],
   "source": [
    "df = pd.merge(df_meta, df_wav_txt, on='id', how='inner')"
   ]
  },
  {
   "cell_type": "code",
   "execution_count": 24,
   "id": "64dc335b-3593-4e83-a678-cc3260ef7ad4",
   "metadata": {},
   "outputs": [
    {
     "name": "stderr",
     "output_type": "stream",
     "text": [
      "100%|████████████████████████████████████| 22496/22496 [01:16<00:00, 292.61it/s]\n"
     ]
    }
   ],
   "source": [
    "wav_paths = df['set'] + '_wav/wav/' + df['id'] + '/' + df['video'] + '/' + df['wav']\n",
    "df['duration'] = [librosa.get_duration(filename=f) for f in tqdm(wav_paths)]"
   ]
  },
  {
   "cell_type": "code",
   "execution_count": 25,
   "id": "d369d900-bf7b-400d-a56d-b675d811e13a",
   "metadata": {},
   "outputs": [
    {
     "name": "stderr",
     "output_type": "stream",
     "text": [
      "100%|███████████████████████████████████| 22496/22496 [00:05<00:00, 4394.08it/s]\n"
     ]
    }
   ],
   "source": [
    "def extract_offset_and_frame(txt_path):\n",
    "    with open(txt_path) as fd:\n",
    "        txt = fd.read().splitlines()\n",
    "        return int(txt[2][13:]), int(txt[7][:6])\n",
    "\n",
    "txt_paths = df['set'] + '_txt/txt/' + df['id'] + '/' + df['video'] + '/' + df['txt']\n",
    "df['offset'], df['frame'] = zip(*[extract_offset_and_frame(path) for path in tqdm(txt_paths)])\n",
    "df['start'] = (df['frame'] / 25).astype(int) # + df['offset']"
   ]
  },
  {
   "cell_type": "code",
   "execution_count": 26,
   "id": "dfa4ac98-de54-4693-992d-b468b8c04e70",
   "metadata": {},
   "outputs": [
    {
     "data": {
      "text/html": [
       "<div>\n",
       "<style scoped>\n",
       "    .dataframe tbody tr th:only-of-type {\n",
       "        vertical-align: middle;\n",
       "    }\n",
       "\n",
       "    .dataframe tbody tr th {\n",
       "        vertical-align: top;\n",
       "    }\n",
       "\n",
       "    .dataframe thead th {\n",
       "        text-align: right;\n",
       "    }\n",
       "</style>\n",
       "<table border=\"1\" class=\"dataframe\">\n",
       "  <thead>\n",
       "    <tr style=\"text-align: right;\">\n",
       "      <th></th>\n",
       "      <th>id</th>\n",
       "      <th>name</th>\n",
       "      <th>gender</th>\n",
       "      <th>nationality</th>\n",
       "      <th>set</th>\n",
       "      <th>video</th>\n",
       "      <th>wav</th>\n",
       "      <th>txt</th>\n",
       "      <th>duration</th>\n",
       "      <th>offset</th>\n",
       "      <th>frame</th>\n",
       "      <th>start</th>\n",
       "    </tr>\n",
       "  </thead>\n",
       "  <tbody>\n",
       "    <tr>\n",
       "      <th>0</th>\n",
       "      <td>id10001</td>\n",
       "      <td>A.J._Buckley</td>\n",
       "      <td>m</td>\n",
       "      <td>Ireland</td>\n",
       "      <td>dev</td>\n",
       "      <td>1zcIwhmdeo4</td>\n",
       "      <td>00001.wav</td>\n",
       "      <td>00001.txt</td>\n",
       "      <td>8.120062</td>\n",
       "      <td>-5</td>\n",
       "      <td>368</td>\n",
       "      <td>14.72</td>\n",
       "    </tr>\n",
       "    <tr>\n",
       "      <th>1</th>\n",
       "      <td>id10001</td>\n",
       "      <td>A.J._Buckley</td>\n",
       "      <td>m</td>\n",
       "      <td>Ireland</td>\n",
       "      <td>dev</td>\n",
       "      <td>7gWzIy6yIIk</td>\n",
       "      <td>00001.wav</td>\n",
       "      <td>00001.txt</td>\n",
       "      <td>8.640063</td>\n",
       "      <td>-1</td>\n",
       "      <td>5169</td>\n",
       "      <td>206.76</td>\n",
       "    </tr>\n",
       "    <tr>\n",
       "      <th>2</th>\n",
       "      <td>id10001</td>\n",
       "      <td>A.J._Buckley</td>\n",
       "      <td>m</td>\n",
       "      <td>Ireland</td>\n",
       "      <td>dev</td>\n",
       "      <td>7w0IBEWc9Qw</td>\n",
       "      <td>00001.wav</td>\n",
       "      <td>00001.txt</td>\n",
       "      <td>28.040063</td>\n",
       "      <td>-3</td>\n",
       "      <td>200</td>\n",
       "      <td>8.00</td>\n",
       "    </tr>\n",
       "  </tbody>\n",
       "</table>\n",
       "</div>"
      ],
      "text/plain": [
       "        id          name gender nationality  set        video        wav  \\\n",
       "0  id10001  A.J._Buckley      m     Ireland  dev  1zcIwhmdeo4  00001.wav   \n",
       "1  id10001  A.J._Buckley      m     Ireland  dev  7gWzIy6yIIk  00001.wav   \n",
       "2  id10001  A.J._Buckley      m     Ireland  dev  7w0IBEWc9Qw  00001.wav   \n",
       "\n",
       "         txt   duration  offset  frame   start  \n",
       "0  00001.txt   8.120062      -5    368   14.72  \n",
       "1  00001.txt   8.640063      -1   5169  206.76  \n",
       "2  00001.txt  28.040063      -3    200    8.00  "
      ]
     },
     "execution_count": 26,
     "metadata": {},
     "output_type": "execute_result"
    }
   ],
   "source": [
    "df[:3]"
   ]
  },
  {
   "cell_type": "code",
   "execution_count": 28,
   "id": "8a983391-647a-44b8-8cda-c284c14a0b71",
   "metadata": {},
   "outputs": [],
   "source": [
    "df.to_csv('vox.csv', index=False)"
   ]
  },
  {
   "cell_type": "code",
   "execution_count": 2,
   "id": "d66084d7-51db-4010-8cd3-d9779aa154f2",
   "metadata": {},
   "outputs": [],
   "source": [
    "df = pd.read_csv('vox.csv')\n",
    "wav_paths = df['set'] + '_wav/wav/' + df['id'] + '/' + df['video'] + '/' + df['wav']\n",
    "params = {'source': 'speechbrain/spkrec-ecapa-voxceleb', 'run_opts': {'device': 'cpu'}}\n",
    "ecapa = speechbrain.pretrained.EncoderClassifier.from_hparams(**params)"
   ]
  },
  {
   "cell_type": "code",
   "execution_count": 3,
   "id": "3dac4fd8-91e2-4e6a-bd1e-26b0c963efd5",
   "metadata": {},
   "outputs": [
    {
     "name": "stderr",
     "output_type": "stream",
     "text": [
      "100%|███████████████████████████████████████| 703/703 [1:33:26<00:00,  7.97s/it]\n"
     ]
    }
   ],
   "source": [
    "def load_wav(path):\n",
    "    max_audio = 4*16000\n",
    "    audio, sr = soundfile.read(path, frames=max_audio)\n",
    "    if audio.shape[0] < max_audio:\n",
    "        shortage = max_audio - audio.shape[0]\n",
    "        audio = np.pad(audio, (0, shortage), 'wrap')\n",
    "    return torch.tensor(np.expand_dims(audio, axis=0))\n",
    "\n",
    "def get_embs(wav_paths):\n",
    "    audio = [load_wav(path) for path in wav_paths]\n",
    "    return ecapa.encode_batch(torch.vstack(audio)).squeeze(1).detach().numpy()\n",
    "\n",
    "batches = np.array_split(wav_paths, len(wav_paths) / 32)\n",
    "embs = np.vstack([get_embs(batch_paths) for batch_paths in tqdm(batches)])\n",
    "\n",
    "np.save('ecapa_vox', embs)"
   ]
  },
  {
   "cell_type": "code",
   "execution_count": 4,
   "id": "58071ca1-0e0d-4e92-a7e8-b9102015ff00",
   "metadata": {},
   "outputs": [
    {
     "name": "stdout",
     "output_type": "stream",
     "text": [
      "(22496, 192)\n"
     ]
    }
   ],
   "source": [
    "print(embs.shape)"
   ]
  }
 ],
 "metadata": {
  "kernelspec": {
   "display_name": "dev",
   "language": "python",
   "name": "dev"
  },
  "language_info": {
   "codemirror_mode": {
    "name": "ipython",
    "version": 3
   },
   "file_extension": ".py",
   "mimetype": "text/x-python",
   "name": "python",
   "nbconvert_exporter": "python",
   "pygments_lexer": "ipython3",
   "version": "3.9.7"
  }
 },
 "nbformat": 4,
 "nbformat_minor": 5
}
